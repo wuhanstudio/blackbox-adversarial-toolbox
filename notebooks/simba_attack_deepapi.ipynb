{
 "cells": [
  {
   "cell_type": "markdown",
   "metadata": {},
   "source": [
    "## Distributed SimBA Attack against DeepAPI"
   ]
  },
  {
   "cell_type": "markdown",
   "metadata": {},
   "source": [
    "Paper link: https://arxiv.org/abs/1905.07121"
   ]
  },
  {
   "cell_type": "code",
   "execution_count": 1,
   "metadata": {},
   "outputs": [],
   "source": [
    "from bat.attacks import SimBA\n",
    "from bat.apis.deepapi import DeepAPI_VGG16_Cifar10"
   ]
  },
  {
   "cell_type": "code",
   "execution_count": 2,
   "metadata": {},
   "outputs": [],
   "source": [
    "import numpy as np\n",
    "np.set_printoptions(suppress=True)\n",
    "\n",
    "from PIL import Image"
   ]
  },
  {
   "cell_type": "markdown",
   "metadata": {},
   "source": [
    "## Step 1: Load image and make predictions"
   ]
  },
  {
   "cell_type": "code",
   "execution_count": 3,
   "metadata": {},
   "outputs": [],
   "source": [
    "# Load Image \n",
    "x = np.asarray(Image.open(\"dog.jpg\").resize((32, 32)))"
   ]
  },
  {
   "cell_type": "code",
   "execution_count": 4,
   "metadata": {},
   "outputs": [],
   "source": [
    "from matplotlib.pyplot import imshow\n",
    "from matplotlib import pyplot as plt\n",
    "%matplotlib inline"
   ]
  },
  {
   "cell_type": "code",
   "execution_count": 5,
   "metadata": {},
   "outputs": [
    {
     "data": {
      "text/plain": [
       "<matplotlib.image.AxesImage at 0x7ffb4b557640>"
      ]
     },
     "execution_count": 5,
     "metadata": {},
     "output_type": "execute_result"
    },
    {
     "data": {
      "image/png": "[encoded data removed]",
      "text/plain": [
       "<Figure size 100x100 with 1 Axes>"
      ]
     },
     "metadata": {},
     "output_type": "display_data"
    }
   ],
   "source": [
    "plt.figure(figsize = (1, 1))\n",
    "plt.imshow(x, interpolation='nearest')"
   ]
  },
  {
   "cell_type": "code",
   "execution_count": 6,
   "metadata": {},
   "outputs": [],
   "source": [
    "# Initialize the DeepAPI Model\n",
    "model = DeepAPI_VGG16_Cifar10(\"http://localhost:8080\")"
   ]
  },
  {
   "cell_type": "code",
   "execution_count": 7,
   "metadata": {},
   "outputs": [
    {
     "name": "stdout",
     "output_type": "stream",
     "text": [
      "\n",
      "dog        0.99965\n",
      "horse      0.00023\n",
      "deer       0.00003\n",
      "bird       0.00002\n",
      "cat        0.00002\n",
      "airplane   0.00001\n",
      "automobile 0.00001\n",
      "frog       0.00001\n",
      "truck      0.00000\n",
      "ship       0.00000\n",
      "\n",
      "Prediction 4 dog\n"
     ]
    }
   ],
   "source": [
    "# Get Preditction\n",
    "y_pred = model.predict(np.array([x]))[0]\n",
    "\n",
    "# Print result\n",
    "model.print(y_pred)\n",
    "print()\n",
    "print('Prediction', np.argmax(y_pred), model.get_class_name(np.argmax(y_pred)))"
   ]
  },
  {
   "cell_type": "markdown",
   "metadata": {},
   "source": [
    "## Step 2: Apply the SimpleBA Attack"
   ]
  },
  {
   "cell_type": "markdown",
   "metadata": {},
   "source": []
  },
  {
   "cell_type": "code",
   "execution_count": 8,
   "metadata": {},
   "outputs": [
    {
     "name": "stdout",
     "output_type": "stream",
     "text": [
      "Clean accuracy: 100.00%\n"
     ]
    },
    {
     "name": "stderr",
     "output_type": "stream",
     "text": [
      "Distributed SimBA Attack (Vertical):  21%|██        | 78/375 [01:00<03:49,  1.30it/s, Total Queries=1343.0, Mean Higest Prediction=0.604, Attack Success Rate=1, Avg Queries=1343.0]\n"
     ]
    }
   ],
   "source": [
    "simba = SimBA(model)\n",
    "x_adv = simba.attack(np.array([x]), np.argmax(y_pred), epsilon=0.1, max_it=3000, concurrency=8)"
   ]
  },
  {
   "cell_type": "code",
   "execution_count": 9,
   "metadata": {},
   "outputs": [
    {
     "data": {
      "text/plain": [
       "<matplotlib.image.AxesImage at 0x7ffb47a893a0>"
      ]
     },
     "execution_count": 9,
     "metadata": {},
     "output_type": "execute_result"
    },
    {
     "data": {
      "image/png": "[encoded data removed]",
      "text/plain": [
       "<Figure size 100x100 with 1 Axes>"
      ]
     },
     "metadata": {},
     "output_type": "display_data"
    }
   ],
   "source": [
    "plt.figure(figsize = (1, 1))\n",
    "plt.imshow(x_adv[0], interpolation='nearest')"
   ]
  },
  {
   "cell_type": "code",
   "execution_count": 10,
   "metadata": {},
   "outputs": [
    {
     "name": "stdout",
     "output_type": "stream",
     "text": [
      "\n",
      "horse      0.60395\n",
      "dog        0.39408\n",
      "cat        0.00100\n",
      "deer       0.00045\n",
      "bird       0.00036\n",
      "airplane   0.00006\n",
      "frog       0.00005\n",
      "automobile 0.00002\n",
      "truck      0.00002\n",
      "ship       0.00001\n",
      "\n",
      "Prediction 8 horse\n"
     ]
    }
   ],
   "source": [
    "# Get predictions after attack\n",
    "y_adv = model.predict(x_adv)[0]\n",
    "\n",
    "# Print result\n",
    "model.print(y_adv)\n",
    "print()\n",
    "print('Prediction', np.argmax(y_adv), model.get_class_name(np.argmax(y_adv)))"
   ]
  },
  {
   "cell_type": "code",
   "execution_count": null,
   "metadata": {},
   "outputs": [],
   "source": []
  }
 ],
 "metadata": {
  "interpreter": {
   "hash": "92df74607b40eeb25baf4142176155ba163ce4cc9ee544063ef6497c2b09a9a4"
  },
  "kernelspec": {
   "display_name": "Python 3.8.0 ('bat')",
   "language": "python",
   "name": "python3"
  },
  "language_info": {
   "codemirror_mode": {
    "name": "ipython",
    "version": 3
   },
   "file_extension": ".py",
   "mimetype": "text/x-python",
   "name": "python",
   "nbconvert_exporter": "python",
   "pygments_lexer": "ipython3",
   "version": "3.8.0"
  }
 },
 "nbformat": 4,
 "nbformat_minor": 4
}
