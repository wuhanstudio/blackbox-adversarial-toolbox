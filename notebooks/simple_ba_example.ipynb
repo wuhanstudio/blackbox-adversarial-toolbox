{
 "cells": [
  {
   "cell_type": "markdown",
   "metadata": {},
   "source": [
    "# Simple Black-box Adversarial Attacks"
   ]
  },
  {
   "cell_type": "markdown",
   "metadata": {},
   "source": [
    "Paper link: https://arxiv.org/abs/1905.07121"
   ]
  },
  {
   "cell_type": "code",
   "execution_count": 1,
   "metadata": {},
   "outputs": [],
   "source": [
    "from bat.attacks import SimBA\n",
    "from bat.apis.deepapi import VGG16Cifar10"
   ]
  },
  {
   "cell_type": "code",
   "execution_count": 2,
   "metadata": {},
   "outputs": [],
   "source": [
    "import numpy as np\n",
    "np.set_printoptions(suppress=True)\n",
    "\n",
    "from PIL import Image"
   ]
  },
  {
   "cell_type": "markdown",
   "metadata": {},
   "source": [
    "## Step 1: Load image and make predictions"
   ]
  },
  {
   "cell_type": "code",
   "execution_count": 3,
   "metadata": {},
   "outputs": [],
   "source": [
    "# Load Image ranging from [0.0, 1.0]\n",
    "x = np.asarray(Image.open(\"dog.jpg\").resize((32, 32))) / 255.0"
   ]
  },
  {
   "cell_type": "code",
   "execution_count": 4,
   "metadata": {},
   "outputs": [],
   "source": [
    "from matplotlib.pyplot import imshow\n",
    "%matplotlib inline"
   ]
  },
  {
   "cell_type": "code",
   "execution_count": 5,
   "metadata": {},
   "outputs": [
    {
     "data": {
      "text/plain": [
       "<matplotlib.image.AxesImage at 0x23589af7ac8>"
      ]
     },
     "execution_count": 5,
     "metadata": {},
     "output_type": "execute_result"
    },
    {
     "data": {
      "image/png": "[encoded data removed]",
      "text/plain": [
       "<Figure size 432x288 with 1 Axes>"
      ]
     },
     "metadata": {
      "needs_background": "light"
     },
     "output_type": "display_data"
    }
   ],
   "source": [
    "imshow(np.asarray(x))"
   ]
  },
  {
   "cell_type": "code",
   "execution_count": 6,
   "metadata": {},
   "outputs": [],
   "source": [
    "# Initialize the DeepAPI Model\n",
    "model = VGG16Cifar10(\"https://api.wuhanstudio.uk\" + \"/vgg16_cifar10\")"
   ]
  },
  {
   "cell_type": "code",
   "execution_count": 7,
   "metadata": {},
   "outputs": [
    {
     "name": "stdout",
     "output_type": "stream",
     "text": [
      "airplane       0.00001\n",
      "automobile     0.00001\n",
      "bird           0.00003\n",
      "cat            0.00002\n",
      "deer           0.00003\n",
      "dog            0.99964\n",
      "frog           0.00001\n",
      "horse          0.00024\n",
      "ship           0.00000\n",
      "truck          0.00001\n",
      "\n",
      "Prediction 5 dog\n"
     ]
    }
   ],
   "source": [
    "# Get Preditction\n",
    "y_pred = model.predict(np.array([x]))[0]\n",
    "\n",
    "# Print result\n",
    "model.print(y_pred)\n",
    "print()\n",
    "print('Prediction', np.argmax(y_pred), model.get_class_name(np.argmax(y_pred)))"
   ]
  },
  {
   "cell_type": "markdown",
   "metadata": {},
   "source": [
    "## Step 2: Apply the SimpleBA Attack"
   ]
  },
  {
   "cell_type": "code",
   "execution_count": 8,
   "metadata": {},
   "outputs": [
    {
     "name": "stdout",
     "output_type": "stream",
     "text": [
      "0 0.999701201915741 0.09999999999999998\n",
      "1 0.9996751546859741 0.14142135623730948\n",
      "3 0.9996483325958252 0.17320508075688767\n",
      "4 0.999543309211731 0.19999999999999996\n",
      "6 0.9995017051696777 0.2236067977499789\n",
      "7 0.999431312084198 0.24494897427831777\n",
      "8 0.999419093132019 0.264575131106459\n",
      "10 0.9992103576660156 0.282842712474619\n",
      "15 0.9992097616195679 0.3\n",
      "17 0.9991853833198547 0.31622776601683794\n",
      "18 0.9991084933280945 0.33166247903553997\n",
      "20 0.9990942478179932 0.34641016151377546\n",
      "22 0.9989808201789856 0.36055512754639896\n",
      "23 0.9989751577377319 0.37416573867739417\n",
      "24 0.9989609718322754 0.3872983346207417\n",
      "26 0.998950719833374 0.39999999999999997\n",
      "28 0.9989303946495056 0.412310562561766\n",
      "29 0.9988741278648376 0.4242640687119285\n",
      "30 0.9988688826560974 0.43588989435406733\n",
      "31 0.9988572597503662 0.4472135954999579\n",
      "34 0.9988458156585693 0.45825756949558394\n",
      "35 0.9988131523132324 0.4690415759823429\n",
      "36 0.9987803101539612 0.4795831523312719\n",
      "40 0.9987439513206482 0.4898979485566356\n",
      "41 0.9987040758132935 0.49999999999999994\n",
      "42 0.9987009763717651 0.5099019513592784\n",
      "45 0.9986799359321594 0.5196152422706631\n",
      "49 0.998674750328064 0.529150262212918\n",
      "51 0.9986732006072998 0.5385164807134504\n",
      "52 0.9985525012016296 0.5477225575051661\n",
      "53 0.9984048008918762 0.5567764362830021\n",
      "54 0.9983963370323181 0.565685424949238\n",
      "56 0.9983600974082947 0.5744562646538028\n",
      "57 0.9982832670211792 0.58309518948453\n",
      "58 0.998272180557251 0.5916079783099616\n",
      "61 0.998150646686554 0.6\n",
      "63 0.9980317950248718 0.6082762530298219\n",
      "64 0.997897744178772 0.6107489052777436\n",
      "65 0.9978766441345215 0.6188814307264052\n",
      "68 0.9978647828102112 0.6269084664430384\n",
      "69 0.9976844787597656 0.6348340139737018\n",
      "70 0.997670590877533 0.6426618281008778\n",
      "72 0.9976576566696167 0.6503954376361831\n",
      "73 0.9975848197937012 0.6580381640132753\n",
      "75 0.9975455403327942 0.6655931379588902\n",
      "79 0.9972602128982544 0.6730633144793751\n",
      "81 0.9963561296463013 0.6804514863661937\n",
      "85 0.9960972666740417 0.6877602963954537\n",
      "87 0.996085524559021 0.6949922483725716\n",
      "91 0.9959813356399536 0.7021497171529462\n",
      "92 0.9957428574562073 0.7092349577523391\n",
      "94 0.9955582618713379 0.716250113646038\n",
      "99 0.9950333833694458 0.7231972243433753\n",
      "105 0.9943371415138245 0.7300782323134708\n",
      "107 0.9940973520278931 0.7368949893288476\n",
      "109 0.9939781427383423 0.7436492622856303\n",
      "110 0.9938228130340576 0.7503427385521647\n",
      "111 0.9923365712165833 0.7569770308919301\n",
      "115 0.9917594790458679 0.7635536820014439\n",
      "116 0.990764856338501 0.7700741686993288\n",
      "118 0.9896826148033142 0.7765399057987697\n",
      "122 0.9895093441009521 0.7829522496921266\n",
      "123 0.9882113337516785 0.789312501673426\n",
      "127 0.9822967648506165 0.7956219110217881\n",
      "130 0.9799309968948364 0.8018816778664807\n",
      "139 0.9635137319564819 0.8080929558522103\n",
      "152 0.8946985602378845 0.8142568546214163\n",
      "155 0.8730496764183044 0.8203744421286917\n",
      "161 0.8693928122520447 0.8264467468010036\n",
      "164 0.8640202283859253 0.8324747595560853\n",
      "165 0.8561831712722778 0.83845943569022\n",
      "166 0.8009129762649536 0.8444016966455966\n",
      "171 0.6724616885185242 0.8503024316664995\n",
      "176 0.6313599348068237 0.8561624993527585\n",
      "189 0.5962302088737488 0.8619827291181431\n",
      "211 0.5530451536178589 0.8677639225607171\n",
      "229 0.5352545380592346 0.8735068547515595\n",
      "236 0.5348849892616272 0.8792122754477226\n",
      "237 0.5044301748275757 0.8848809102347966\n",
      "239 0.4912436604499817 0.8905134616040131\n"
     ]
    }
   ],
   "source": [
    "simba = SimBA()\n",
    "x_adv = simba.attack(x, model)"
   ]
  },
  {
   "cell_type": "code",
   "execution_count": 9,
   "metadata": {},
   "outputs": [
    {
     "data": {
      "text/plain": [
       "<matplotlib.image.AxesImage at 0x23589bd5dc8>"
      ]
     },
     "execution_count": 9,
     "metadata": {},
     "output_type": "execute_result"
    },
    {
     "data": {
      "image/png": "[encoded data removed]",
      "text/plain": [
       "<Figure size 432x288 with 1 Axes>"
      ]
     },
     "metadata": {
      "needs_background": "light"
     },
     "output_type": "display_data"
    }
   ],
   "source": [
    "imshow(np.asarray(x_adv))"
   ]
  },
  {
   "cell_type": "code",
   "execution_count": 10,
   "metadata": {},
   "outputs": [
    {
     "name": "stdout",
     "output_type": "stream",
     "text": [
      "airplane       0.00007\n",
      "automobile     0.00003\n",
      "bird           0.00047\n",
      "cat            0.00087\n",
      "deer           0.00054\n",
      "dog            0.49124\n",
      "frog           0.00006\n",
      "horse          0.50669\n",
      "ship           0.00001\n",
      "truck          0.00002\n",
      "\n",
      "Prediction 7 horse\n"
     ]
    }
   ],
   "source": [
    "# Get predictions after attack\n",
    "y_pred = model.predict(np.array([x_adv]))[0]\n",
    "\n",
    "# Print result\n",
    "model.print(y_pred)\n",
    "print()\n",
    "print('Prediction', np.argmax(y_pred), model.get_class_name(np.argmax(y_pred)))"
   ]
  },
  {
   "cell_type": "code",
   "execution_count": null,
   "metadata": {},
   "outputs": [],
   "source": []
  }
 ],
 "metadata": {
  "kernelspec": {
   "display_name": "Python 3",
   "language": "python",
   "name": "python3"
  },
  "language_info": {
   "codemirror_mode": {
    "name": "ipython",
    "version": 3
   },
   "file_extension": ".py",
   "mimetype": "text/x-python",
   "name": "python",
   "nbconvert_exporter": "python",
   "pygments_lexer": "ipython3",
   "version": "3.7.9"
  }
 },
 "nbformat": 4,
 "nbformat_minor": 4
}
